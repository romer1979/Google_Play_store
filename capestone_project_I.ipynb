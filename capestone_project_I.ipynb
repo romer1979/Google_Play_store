{
 "cells": [
  {
   "attachments": {
    "google-play-logo1.jpg": {
     "image/jpeg": "[encoded data removed]"
    }
   },
   "cell_type": "markdown",
   "metadata": {},
   "source": [
    "# Does including \"Free\" in the app name make a difference? A statistical analysis\n",
    "\n",
    "![google-play-logo1.jpg](attachment:google-play-logo1.jpg)\n",
    "## Introduction\n",
    "\n",
    "The word \"FREE\" usually is used to attract new customers to a new or current product as part of marketing campaigns, because the word \"FREE\" draws customers eyes to where the businesses want them to go. But, is this theory works in the app market where most of the apps available on Google Play store or Apple Appstore are free. Some argue adding the word \"FREE\" to the app name attract more users in the mobile app market as well, while others think it lost its magic on users eyes since developers are more tend to create free apps and generate income from attracting customers to buy pro versions or upgrades while using the app.\n",
    "\n",
    "In this analysis, a sample of web scraped data by Lavanya Gupta of 10k Play store apps has been used to analyze the effect of using the word \"FREE\" in the app name (title) by evaluating the change in users Rating, the number of users Reviews and the total number of app Installs."
   ]
  },
  {
   "cell_type": "markdown",
   "metadata": {},
   "source": [
    "## Data Frame\n",
    "\n",
    "The data in this analysis consist of app details and metrics of 10,841 apps. The dataset consists of 13 columns as following:\n",
    "\n",
    "1- App: Application name - title.\n",
    "\n",
    "2- Category: The apps are divided into 34 categories.\n",
    "\n",
    "3- Rating: Overall users rating of the app.\n",
    "\n",
    "4- Reviews: Number of users reviews for the app.\n",
    "\n",
    "5- Size: Size of the app.\n",
    "\n",
    "6- Installs: Number of downloads/installs of the app.\n",
    "\n",
    "7- Type: type of the app (Paid or Free).\n",
    "\n",
    "8- Price: Price of the app (for paid apps only).\n",
    "\n",
    "9- Content Rating: Age group the app is targeted at (80% of the apps are targeting everyone).\n",
    "\n",
    "10- Genres: There are 118 genres and apps can belong to multiple genres apart of its main category.\n",
    "\n",
    "11- Last Updated: Dates when the app was last updated on Play store.\n",
    "\n",
    "12- Current Ver: the current version of the app available on Play store.\n",
    "\n",
    "13- Android Ver: Minimum required Android version.\n",
    "\n",
    "you can find below the first five rows of the dataset for illustration. The total number of lines is 10,841 line as it shows below:"
   ]
  },
  {
   "cell_type": "code",
   "execution_count": 832,
   "metadata": {
    "scrolled": false
   },
   "outputs": [
    {
     "data": {
      "text/html": [
       "<div>\n",
       "<style scoped>\n",
       "    .dataframe tbody tr th:only-of-type {\n",
       "        vertical-align: middle;\n",
       "    }\n",
       "\n",
       "    .dataframe tbody tr th {\n",
       "        vertical-align: top;\n",
       "    }\n",
       "\n",
       "    .dataframe thead th {\n",
       "        text-align: right;\n",
       "    }\n",
       "</style>\n",
       "<table border=\"1\" class=\"dataframe\">\n",
       "  <thead>\n",
       "    <tr style=\"text-align: right;\">\n",
       "      <th></th>\n",
       "      <th>App</th>\n",
       "      <th>Category</th>\n",
       "      <th>Rating</th>\n",
       "      <th>Reviews</th>\n",
       "      <th>Size</th>\n",
       "      <th>Installs</th>\n",
       "      <th>Type</th>\n",
       "      <th>Price</th>\n",
       "      <th>Content Rating</th>\n",
       "      <th>Genres</th>\n",
       "      <th>Last Updated</th>\n",
       "      <th>Current Ver</th>\n",
       "      <th>Android Ver</th>\n",
       "    </tr>\n",
       "  </thead>\n",
       "  <tbody>\n",
       "    <tr>\n",
       "      <th>0</th>\n",
       "      <td>Photo Editor &amp; Candy Camera &amp; Grid &amp; ScrapBook</td>\n",
       "      <td>ART_AND_DESIGN</td>\n",
       "      <td>4.1</td>\n",
       "      <td>159</td>\n",
       "      <td>19M</td>\n",
       "      <td>10,000+</td>\n",
       "      <td>Free</td>\n",
       "      <td>0</td>\n",
       "      <td>Everyone</td>\n",
       "      <td>Art &amp; Design</td>\n",
       "      <td>January 7, 2018</td>\n",
       "      <td>1.0.0</td>\n",
       "      <td>4.0.3 and up</td>\n",
       "    </tr>\n",
       "    <tr>\n",
       "      <th>1</th>\n",
       "      <td>Coloring book moana</td>\n",
       "      <td>ART_AND_DESIGN</td>\n",
       "      <td>3.9</td>\n",
       "      <td>967</td>\n",
       "      <td>14M</td>\n",
       "      <td>500,000+</td>\n",
       "      <td>Free</td>\n",
       "      <td>0</td>\n",
       "      <td>Everyone</td>\n",
       "      <td>Art &amp; Design;Pretend Play</td>\n",
       "      <td>January 15, 2018</td>\n",
       "      <td>2.0.0</td>\n",
       "      <td>4.0.3 and up</td>\n",
       "    </tr>\n",
       "    <tr>\n",
       "      <th>2</th>\n",
       "      <td>U Launcher Lite – FREE Live Cool Themes, Hide ...</td>\n",
       "      <td>ART_AND_DESIGN</td>\n",
       "      <td>4.7</td>\n",
       "      <td>87510</td>\n",
       "      <td>8.7M</td>\n",
       "      <td>5,000,000+</td>\n",
       "      <td>Free</td>\n",
       "      <td>0</td>\n",
       "      <td>Everyone</td>\n",
       "      <td>Art &amp; Design</td>\n",
       "      <td>August 1, 2018</td>\n",
       "      <td>1.2.4</td>\n",
       "      <td>4.0.3 and up</td>\n",
       "    </tr>\n",
       "    <tr>\n",
       "      <th>3</th>\n",
       "      <td>Sketch - Draw &amp; Paint</td>\n",
       "      <td>ART_AND_DESIGN</td>\n",
       "      <td>4.5</td>\n",
       "      <td>215644</td>\n",
       "      <td>25M</td>\n",
       "      <td>50,000,000+</td>\n",
       "      <td>Free</td>\n",
       "      <td>0</td>\n",
       "      <td>Teen</td>\n",
       "      <td>Art &amp; Design</td>\n",
       "      <td>June 8, 2018</td>\n",
       "      <td>Varies with device</td>\n",
       "      <td>4.2 and up</td>\n",
       "    </tr>\n",
       "    <tr>\n",
       "      <th>4</th>\n",
       "      <td>Pixel Draw - Number Art Coloring Book</td>\n",
       "      <td>ART_AND_DESIGN</td>\n",
       "      <td>4.3</td>\n",
       "      <td>967</td>\n",
       "      <td>2.8M</td>\n",
       "      <td>100,000+</td>\n",
       "      <td>Free</td>\n",
       "      <td>0</td>\n",
       "      <td>Everyone</td>\n",
       "      <td>Art &amp; Design;Creativity</td>\n",
       "      <td>June 20, 2018</td>\n",
       "      <td>1.1</td>\n",
       "      <td>4.4 and up</td>\n",
       "    </tr>\n",
       "  </tbody>\n",
       "</table>\n",
       "</div>"
      ],
      "text/plain": [
       "                                                 App        Category  Rating  \\\n",
       "0     Photo Editor & Candy Camera & Grid & ScrapBook  ART_AND_DESIGN     4.1   \n",
       "1                                Coloring book moana  ART_AND_DESIGN     3.9   \n",
       "2  U Launcher Lite – FREE Live Cool Themes, Hide ...  ART_AND_DESIGN     4.7   \n",
       "3                              Sketch - Draw & Paint  ART_AND_DESIGN     4.5   \n",
       "4              Pixel Draw - Number Art Coloring Book  ART_AND_DESIGN     4.3   \n",
       "\n",
       "  Reviews  Size     Installs  Type Price Content Rating  \\\n",
       "0     159   19M      10,000+  Free     0       Everyone   \n",
       "1     967   14M     500,000+  Free     0       Everyone   \n",
       "2   87510  8.7M   5,000,000+  Free     0       Everyone   \n",
       "3  215644   25M  50,000,000+  Free     0           Teen   \n",
       "4     967  2.8M     100,000+  Free     0       Everyone   \n",
       "\n",
       "                      Genres      Last Updated         Current Ver  \\\n",
       "0               Art & Design   January 7, 2018               1.0.0   \n",
       "1  Art & Design;Pretend Play  January 15, 2018               2.0.0   \n",
       "2               Art & Design    August 1, 2018               1.2.4   \n",
       "3               Art & Design      June 8, 2018  Varies with device   \n",
       "4    Art & Design;Creativity     June 20, 2018                 1.1   \n",
       "\n",
       "    Android Ver  \n",
       "0  4.0.3 and up  \n",
       "1  4.0.3 and up  \n",
       "2  4.0.3 and up  \n",
       "3    4.2 and up  \n",
       "4    4.4 and up  "
      ]
     },
     "execution_count": 832,
     "metadata": {},
     "output_type": "execute_result"
    }
   ],
   "source": [
    "import pandas as pd\n",
    "import numpy as np\n",
    "import matplotlib.pyplot as plt\n",
    "import seaborn as sns\n",
    "play_store = pd.read_csv('C:/Users/rabia/Desktop/Thinkful/Capstone project 1/googleplaystore.csv')\n",
    "play_store.head()"
   ]
  },
  {
   "cell_type": "code",
   "execution_count": 713,
   "metadata": {
    "scrolled": true
   },
   "outputs": [
    {
     "data": {
      "text/plain": [
       "10841"
      ]
     },
     "execution_count": 713,
     "metadata": {},
     "output_type": "execute_result"
    }
   ],
   "source": [
    "len(play_store)"
   ]
  },
  {
   "cell_type": "markdown",
   "metadata": {},
   "source": [
    "The data need to be checked and cleaned of any duplication or wrong entries. For example, some apps have been presented in the data frame more than once under different categories like “Coloring book moana” app which is available twice in the dataset under \"Family\" and \"Art and Design\" categories."
   ]
  },
  {
   "cell_type": "code",
   "execution_count": 833,
   "metadata": {},
   "outputs": [
    {
     "data": {
      "text/html": [
       "<div>\n",
       "<style scoped>\n",
       "    .dataframe tbody tr th:only-of-type {\n",
       "        vertical-align: middle;\n",
       "    }\n",
       "\n",
       "    .dataframe tbody tr th {\n",
       "        vertical-align: top;\n",
       "    }\n",
       "\n",
       "    .dataframe thead th {\n",
       "        text-align: right;\n",
       "    }\n",
       "</style>\n",
       "<table border=\"1\" class=\"dataframe\">\n",
       "  <thead>\n",
       "    <tr style=\"text-align: right;\">\n",
       "      <th></th>\n",
       "      <th>App</th>\n",
       "      <th>Category</th>\n",
       "      <th>Rating</th>\n",
       "      <th>Reviews</th>\n",
       "      <th>Size</th>\n",
       "      <th>Installs</th>\n",
       "      <th>Type</th>\n",
       "      <th>Price</th>\n",
       "      <th>Content Rating</th>\n",
       "      <th>Genres</th>\n",
       "      <th>Last Updated</th>\n",
       "      <th>Current Ver</th>\n",
       "      <th>Android Ver</th>\n",
       "    </tr>\n",
       "  </thead>\n",
       "  <tbody>\n",
       "    <tr>\n",
       "      <th>1</th>\n",
       "      <td>Coloring book moana</td>\n",
       "      <td>ART_AND_DESIGN</td>\n",
       "      <td>3.9</td>\n",
       "      <td>967</td>\n",
       "      <td>14M</td>\n",
       "      <td>500,000+</td>\n",
       "      <td>Free</td>\n",
       "      <td>0</td>\n",
       "      <td>Everyone</td>\n",
       "      <td>Art &amp; Design;Pretend Play</td>\n",
       "      <td>January 15, 2018</td>\n",
       "      <td>2.0.0</td>\n",
       "      <td>4.0.3 and up</td>\n",
       "    </tr>\n",
       "    <tr>\n",
       "      <th>2033</th>\n",
       "      <td>Coloring book moana</td>\n",
       "      <td>FAMILY</td>\n",
       "      <td>3.9</td>\n",
       "      <td>974</td>\n",
       "      <td>14M</td>\n",
       "      <td>500,000+</td>\n",
       "      <td>Free</td>\n",
       "      <td>0</td>\n",
       "      <td>Everyone</td>\n",
       "      <td>Art &amp; Design;Pretend Play</td>\n",
       "      <td>January 15, 2018</td>\n",
       "      <td>2.0.0</td>\n",
       "      <td>4.0.3 and up</td>\n",
       "    </tr>\n",
       "  </tbody>\n",
       "</table>\n",
       "</div>"
      ],
      "text/plain": [
       "                      App        Category  Rating Reviews Size  Installs  \\\n",
       "1     Coloring book moana  ART_AND_DESIGN     3.9     967  14M  500,000+   \n",
       "2033  Coloring book moana          FAMILY     3.9     974  14M  500,000+   \n",
       "\n",
       "      Type Price Content Rating                     Genres      Last Updated  \\\n",
       "1     Free     0       Everyone  Art & Design;Pretend Play  January 15, 2018   \n",
       "2033  Free     0       Everyone  Art & Design;Pretend Play  January 15, 2018   \n",
       "\n",
       "     Current Ver   Android Ver  \n",
       "1          2.0.0  4.0.3 and up  \n",
       "2033       2.0.0  4.0.3 and up  "
      ]
     },
     "execution_count": 833,
     "metadata": {},
     "output_type": "execute_result"
    }
   ],
   "source": [
    "play_store.loc[(play_store['App'] == 'Coloring book moana')]"
   ]
  },
  {
   "cell_type": "markdown",
   "metadata": {},
   "source": [
    "In the process of the data cleaning, wrong entries need to be removed such as category \"1.9\" with an average rating of \"19.0\" which is certainly a wrong entry."
   ]
  },
  {
   "cell_type": "code",
   "execution_count": 834,
   "metadata": {},
   "outputs": [
    {
     "data": {
      "text/html": [
       "<div>\n",
       "<style scoped>\n",
       "    .dataframe tbody tr th:only-of-type {\n",
       "        vertical-align: middle;\n",
       "    }\n",
       "\n",
       "    .dataframe tbody tr th {\n",
       "        vertical-align: top;\n",
       "    }\n",
       "\n",
       "    .dataframe thead th {\n",
       "        text-align: right;\n",
       "    }\n",
       "</style>\n",
       "<table border=\"1\" class=\"dataframe\">\n",
       "  <thead>\n",
       "    <tr style=\"text-align: right;\">\n",
       "      <th></th>\n",
       "      <th>App</th>\n",
       "      <th>Category</th>\n",
       "      <th>Rating</th>\n",
       "      <th>Reviews</th>\n",
       "      <th>Size</th>\n",
       "      <th>Installs</th>\n",
       "      <th>Type</th>\n",
       "      <th>Price</th>\n",
       "      <th>Content Rating</th>\n",
       "      <th>Genres</th>\n",
       "      <th>Last Updated</th>\n",
       "      <th>Current Ver</th>\n",
       "      <th>Android Ver</th>\n",
       "    </tr>\n",
       "  </thead>\n",
       "  <tbody>\n",
       "    <tr>\n",
       "      <th>10472</th>\n",
       "      <td>Life Made WI-Fi Touchscreen Photo Frame</td>\n",
       "      <td>1.9</td>\n",
       "      <td>19.0</td>\n",
       "      <td>3.0M</td>\n",
       "      <td>1,000+</td>\n",
       "      <td>Free</td>\n",
       "      <td>0</td>\n",
       "      <td>Everyone</td>\n",
       "      <td>NaN</td>\n",
       "      <td>February 11, 2018</td>\n",
       "      <td>1.0.19</td>\n",
       "      <td>4.0 and up</td>\n",
       "      <td>NaN</td>\n",
       "    </tr>\n",
       "  </tbody>\n",
       "</table>\n",
       "</div>"
      ],
      "text/plain": [
       "                                           App Category  Rating Reviews  \\\n",
       "10472  Life Made WI-Fi Touchscreen Photo Frame      1.9    19.0    3.0M   \n",
       "\n",
       "         Size Installs Type     Price Content Rating             Genres  \\\n",
       "10472  1,000+     Free    0  Everyone            NaN  February 11, 2018   \n",
       "\n",
       "      Last Updated Current Ver Android Ver  \n",
       "10472       1.0.19  4.0 and up         NaN  "
      ]
     },
     "execution_count": 834,
     "metadata": {},
     "output_type": "execute_result"
    }
   ],
   "source": [
    "play_store.loc[(play_store['Category'] == '1.9')]"
   ]
  },
  {
   "cell_type": "markdown",
   "metadata": {},
   "source": [
    "The code lines below are used to sort the values under \"App\" column, then remove any duplicates under the same column. The last code line is to remove any rows with a \"Category\" value of \"1.9\"."
   ]
  },
  {
   "cell_type": "code",
   "execution_count": 835,
   "metadata": {},
   "outputs": [],
   "source": [
    "play_store.sort_values('App', inplace = True)\n",
    "play_store.drop_duplicates(subset = 'App', keep = False, inplace = True)\n",
    "play_store=play_store[~play_store['Category'].str.contains('1.9')]"
   ]
  },
  {
   "cell_type": "markdown",
   "metadata": {},
   "source": [
    "For the purpose to facilitate the analysis and plotting the data frames, The values of columns \"Rating\", \"Reviews\", and \"Installs\" need to be numeric. As shown below, only the \"Rating\" column values are numeric, while \"Reviews\" and \"Installs\" values need to be converted to be numeric."
   ]
  },
  {
   "cell_type": "code",
   "execution_count": 717,
   "metadata": {
    "scrolled": false
   },
   "outputs": [
    {
     "data": {
      "text/plain": [
       "App                object\n",
       "Category           object\n",
       "Rating            float64\n",
       "Reviews            object\n",
       "Size               object\n",
       "Installs           object\n",
       "Type               object\n",
       "Price              object\n",
       "Content Rating     object\n",
       "Genres             object\n",
       "Last Updated       object\n",
       "Current Ver        object\n",
       "Android Ver        object\n",
       "dtype: object"
      ]
     },
     "execution_count": 717,
     "metadata": {},
     "output_type": "execute_result"
    }
   ],
   "source": [
    "play_store.dtypes"
   ]
  },
  {
   "cell_type": "markdown",
   "metadata": {},
   "source": [
    "In order to convert the \"Rating\" column values to numeric. all the \"NaN\" values need to be replaced by \"0\". This doesn't mean that all these apps received a \"Zero\" rating, but it has been replaced by \"Zero\" to facilitate the plotting and analysis of the data."
   ]
  },
  {
   "cell_type": "code",
   "execution_count": 836,
   "metadata": {},
   "outputs": [
    {
     "data": {
      "text/html": [
       "<div>\n",
       "<style scoped>\n",
       "    .dataframe tbody tr th:only-of-type {\n",
       "        vertical-align: middle;\n",
       "    }\n",
       "\n",
       "    .dataframe tbody tr th {\n",
       "        vertical-align: top;\n",
       "    }\n",
       "\n",
       "    .dataframe thead th {\n",
       "        text-align: right;\n",
       "    }\n",
       "</style>\n",
       "<table border=\"1\" class=\"dataframe\">\n",
       "  <thead>\n",
       "    <tr style=\"text-align: right;\">\n",
       "      <th></th>\n",
       "      <th>App</th>\n",
       "      <th>Category</th>\n",
       "      <th>Rating</th>\n",
       "      <th>Reviews</th>\n",
       "      <th>Size</th>\n",
       "      <th>Installs</th>\n",
       "      <th>Type</th>\n",
       "      <th>Price</th>\n",
       "      <th>Content Rating</th>\n",
       "      <th>Genres</th>\n",
       "      <th>Last Updated</th>\n",
       "      <th>Current Ver</th>\n",
       "      <th>Android Ver</th>\n",
       "    </tr>\n",
       "  </thead>\n",
       "  <tbody>\n",
       "    <tr>\n",
       "      <th>8884</th>\n",
       "      <td>\"i DT\" Fútbol. Todos Somos Técnicos.</td>\n",
       "      <td>SPORTS</td>\n",
       "      <td>NaN</td>\n",
       "      <td>27</td>\n",
       "      <td>3.6M</td>\n",
       "      <td>500+</td>\n",
       "      <td>Free</td>\n",
       "      <td>0</td>\n",
       "      <td>Everyone</td>\n",
       "      <td>Sports</td>\n",
       "      <td>October 7, 2017</td>\n",
       "      <td>0.22</td>\n",
       "      <td>4.1 and up</td>\n",
       "    </tr>\n",
       "    <tr>\n",
       "      <th>2483</th>\n",
       "      <td>14thStreetVet</td>\n",
       "      <td>MEDICAL</td>\n",
       "      <td>NaN</td>\n",
       "      <td>0</td>\n",
       "      <td>29M</td>\n",
       "      <td>5+</td>\n",
       "      <td>Free</td>\n",
       "      <td>0</td>\n",
       "      <td>Everyone</td>\n",
       "      <td>Medical</td>\n",
       "      <td>July 16, 2018</td>\n",
       "      <td>300000.1.11</td>\n",
       "      <td>4.0.3 and up</td>\n",
       "    </tr>\n",
       "    <tr>\n",
       "      <th>7382</th>\n",
       "      <td>1st Fed CI Mobile Banking</td>\n",
       "      <td>FINANCE</td>\n",
       "      <td>NaN</td>\n",
       "      <td>0</td>\n",
       "      <td>31M</td>\n",
       "      <td>500+</td>\n",
       "      <td>Free</td>\n",
       "      <td>0</td>\n",
       "      <td>Everyone</td>\n",
       "      <td>Finance</td>\n",
       "      <td>September 29, 2016</td>\n",
       "      <td>6.0.0.1775</td>\n",
       "      <td>4.1 and up</td>\n",
       "    </tr>\n",
       "    <tr>\n",
       "      <th>6518</th>\n",
       "      <td>2017 BN SM Sales Conference</td>\n",
       "      <td>BUSINESS</td>\n",
       "      <td>NaN</td>\n",
       "      <td>2</td>\n",
       "      <td>10M</td>\n",
       "      <td>100+</td>\n",
       "      <td>Free</td>\n",
       "      <td>0</td>\n",
       "      <td>Teen</td>\n",
       "      <td>Business</td>\n",
       "      <td>September 28, 2017</td>\n",
       "      <td>v2.7.11.6</td>\n",
       "      <td>4.1 and up</td>\n",
       "    </tr>\n",
       "    <tr>\n",
       "      <th>9660</th>\n",
       "      <td>23rd QM BDE EO</td>\n",
       "      <td>BUSINESS</td>\n",
       "      <td>NaN</td>\n",
       "      <td>0</td>\n",
       "      <td>6.3M</td>\n",
       "      <td>10+</td>\n",
       "      <td>Free</td>\n",
       "      <td>0</td>\n",
       "      <td>Everyone</td>\n",
       "      <td>Business</td>\n",
       "      <td>September 27, 2017</td>\n",
       "      <td>1.0.0</td>\n",
       "      <td>4.1 and up</td>\n",
       "    </tr>\n",
       "  </tbody>\n",
       "</table>\n",
       "</div>"
      ],
      "text/plain": [
       "                                       App  Category  Rating Reviews  Size  \\\n",
       "8884  \"i DT\" Fútbol. Todos Somos Técnicos.    SPORTS     NaN      27  3.6M   \n",
       "2483                         14thStreetVet   MEDICAL     NaN       0   29M   \n",
       "7382             1st Fed CI Mobile Banking   FINANCE     NaN       0   31M   \n",
       "6518           2017 BN SM Sales Conference  BUSINESS     NaN       2   10M   \n",
       "9660                        23rd QM BDE EO  BUSINESS     NaN       0  6.3M   \n",
       "\n",
       "     Installs  Type Price Content Rating    Genres        Last Updated  \\\n",
       "8884     500+  Free     0       Everyone    Sports     October 7, 2017   \n",
       "2483       5+  Free     0       Everyone   Medical       July 16, 2018   \n",
       "7382     500+  Free     0       Everyone   Finance  September 29, 2016   \n",
       "6518     100+  Free     0           Teen  Business  September 28, 2017   \n",
       "9660      10+  Free     0       Everyone  Business  September 27, 2017   \n",
       "\n",
       "      Current Ver   Android Ver  \n",
       "8884         0.22    4.1 and up  \n",
       "2483  300000.1.11  4.0.3 and up  \n",
       "7382   6.0.0.1775    4.1 and up  \n",
       "6518    v2.7.11.6    4.1 and up  \n",
       "9660        1.0.0    4.1 and up  "
      ]
     },
     "execution_count": 836,
     "metadata": {},
     "output_type": "execute_result"
    }
   ],
   "source": [
    "play_store[pd.isnull(play_store['Rating'])].head()"
   ]
  },
  {
   "cell_type": "code",
   "execution_count": 837,
   "metadata": {},
   "outputs": [],
   "source": [
    "play_store['Rating'].fillna(0, inplace=True)"
   ]
  },
  {
   "cell_type": "markdown",
   "metadata": {},
   "source": [
    "The below code lines are used to change all values under \"Rating\" column to \"Floats\", and all the values under \"Reviews\" column to Integers."
   ]
  },
  {
   "cell_type": "code",
   "execution_count": 720,
   "metadata": {},
   "outputs": [],
   "source": [
    "play_store.Rating = play_store.Rating.astype(float)\n",
    "play_store.Reviews = play_store.Reviews.astype(int)"
   ]
  },
  {
   "cell_type": "markdown",
   "metadata": {},
   "source": [
    "The values under \"Installs\" column are strings and categorical. A new column with the name \"installs_numeric\" has been created with the same values in \"Installs\" column after removing \"+\" and \",\" symbols, and converting them to integers. This new column has been created to have the ability to sort the number of installs."
   ]
  },
  {
   "cell_type": "code",
   "execution_count": 838,
   "metadata": {},
   "outputs": [],
   "source": [
    "play_store['installs_numeric'] = pd.to_numeric(play_store['Installs'].str.replace('+','').str.replace(',','')\n",
    "                                 , errors='ignore')\n",
    "play_store.installs_numeric = play_store.installs_numeric.astype(int)"
   ]
  },
  {
   "cell_type": "markdown",
   "metadata": {},
   "source": [
    "Finally, we have \"Reviews\" and \"installs_numeric\" columns values as integers, and the \"Rating\" column as Float. the total number of rows in the data frame is 8,861 rows. This means that, the total number of apps in this study has been reduced from 10,841 to 8,861 apps."
   ]
  },
  {
   "cell_type": "code",
   "execution_count": 722,
   "metadata": {},
   "outputs": [
    {
     "data": {
      "text/plain": [
       "App                  object\n",
       "Category             object\n",
       "Rating              float64\n",
       "Reviews               int32\n",
       "Size                 object\n",
       "Installs             object\n",
       "Type                 object\n",
       "Price                object\n",
       "Content Rating       object\n",
       "Genres               object\n",
       "Last Updated         object\n",
       "Current Ver          object\n",
       "Android Ver          object\n",
       "installs_numeric      int32\n",
       "dtype: object"
      ]
     },
     "execution_count": 722,
     "metadata": {},
     "output_type": "execute_result"
    }
   ],
   "source": [
    "play_store.dtypes"
   ]
  },
  {
   "cell_type": "code",
   "execution_count": 724,
   "metadata": {},
   "outputs": [
    {
     "data": {
      "text/plain": [
       "8861"
      ]
     },
     "execution_count": 724,
     "metadata": {},
     "output_type": "execute_result"
    }
   ],
   "source": [
    "len(play_store)"
   ]
  },
  {
   "cell_type": "markdown",
   "metadata": {},
   "source": [
    "## Data Visualization\n",
    "\n",
    "In this section, the data will be visualized out to check its insights and provide comments and findings (if applicable).\n",
    "\n",
    "### Number of Apps per Category\n",
    "\n",
    "First, the number of apps per each category will be plotted to check which categories are more or less represented compare to the others.\n",
    "\n",
    "To visualize the count of the apps per each category, the apps have been grouped by category, then plotted the count of the values (apps) per each category as it is shown below:"
   ]
  },
  {
   "cell_type": "code",
   "execution_count": 839,
   "metadata": {},
   "outputs": [
    {
     "data": {
      "text/plain": [
       "(array([   0.,  250.,  500.,  750., 1000., 1250., 1500., 1750., 2000.]),\n",
       " <a list of 9 Text yticklabel objects>)"
      ]
     },
     "execution_count": 839,
     "metadata": {},
     "output_type": "execute_result"
    },
    {
     "data": {
      "image/png": "[encoded data removed]",
      "text/plain": [
       "<Figure size 1080x504 with 1 Axes>"
      ]
     },
     "metadata": {
      "needs_background": "light"
     },
     "output_type": "display_data"
    }
   ],
   "source": [
    "play_store_category = play_store.groupby('Category').mean()\n",
    "plt.figure(figsize=(15,7))\n",
    "play_store.Category.value_counts().plot(kind='bar', color = 'blue')\n",
    "plt.ylabel('Number of Apps', fontsize = 15)\n",
    "plt.title('Number of Apps per category', fontsize = 20)\n",
    "plt.xticks(fontsize='12')\n",
    "plt.yticks(fontsize='12')"
   ]
  },
  {
   "cell_type": "markdown",
   "metadata": {},
   "source": [
    "As it is shown in the above bar chart, the \"Family\" category is the most represented category in the data frame by approximately (20%). \"Game\" and \"Tools\" categories are well represented as well compare to the rest of the apps."
   ]
  },
  {
   "cell_type": "markdown",
   "metadata": {},
   "source": [
    "### The Distribution of Users Rating\n",
    "\n",
    "Second, the distribution of users ratings of the apps is plotted using the bar chart. Over 1,400 apps did not receive a rating from the users (Remember, that \"Zero\" rating does not mean unsatisfied users but a lack of users rating). By ignoring these apps (approx. 1,400 apps), the distribution of the users rating is skewed to the left. Most of the apps received more than 4.0 rating score, this indicate that, users are more tend to provide a rating score of over 4.0. App developers should not consider a score of 4.0 as a positive rating since most of the apps received a higher score. You can see the bar chart of the rating count below: "
   ]
  },
  {
   "cell_type": "code",
   "execution_count": 841,
   "metadata": {
    "scrolled": false
   },
   "outputs": [
    {
     "data": {
      "text/plain": [
       "(array([ 0,  1,  2,  3,  4,  5,  6,  7,  8,  9, 10, 11, 12, 13, 14, 15, 16,\n",
       "        17, 18, 19, 20, 21, 22, 23, 24, 25, 26, 27, 28, 29, 30, 31, 32, 33,\n",
       "        34, 35, 36, 37, 38, 39]), <a list of 40 Text xticklabel objects>)"
      ]
     },
     "execution_count": 841,
     "metadata": {},
     "output_type": "execute_result"
    },
    {
     "data": {
      "image/png": "[encoded data removed]",
      "text/plain": [
       "<Figure size 1080x504 with 1 Axes>"
      ]
     },
     "metadata": {
      "needs_background": "light"
     },
     "output_type": "display_data"
    }
   ],
   "source": [
    "plt.figure(figsize=(15,7))\n",
    "rating_count = sns.countplot(x='Rating', data=play_store, color= 'orange')\n",
    "rating_count.axes.set_title('Rating Counts',fontsize=20)\n",
    "rating_count.set_xlabel('Rating',fontsize=15)\n",
    "rating_count.set_ylabel('Count',fontsize=15)\n",
    "rating_count.tick_params(labelsize=12)\n",
    "plt.xticks(rotation=45)"
   ]
  },
  {
   "cell_type": "markdown",
   "metadata": {},
   "source": [
    "The average rating does not defer much between most of the categories as it appears in the bar chart below. \"Business\", \"Dating\" and \"Medical:\" apps received a relatively low average rating compare to highly rated apps such as \"Education\" and \"Art and Design\" apps. The average rating for each category apps is represented in the y-axes of the bar chart below:"
   ]
  },
  {
   "cell_type": "code",
   "execution_count": 842,
   "metadata": {},
   "outputs": [
    {
     "data": {
      "text/plain": [
       "(array([ 0,  1,  2,  3,  4,  5,  6,  7,  8,  9, 10, 11, 12, 13, 14, 15, 16,\n",
       "        17, 18, 19, 20, 21, 22, 23, 24, 25, 26, 27, 28, 29, 30, 31, 32]),\n",
       " <a list of 33 Text xticklabel objects>)"
      ]
     },
     "execution_count": 842,
     "metadata": {},
     "output_type": "execute_result"
    },
    {
     "data": {
      "image/png": "[encoded data removed]",
      "text/plain": [
       "<Figure size 1080x504 with 1 Axes>"
      ]
     },
     "metadata": {
      "needs_background": "light"
     },
     "output_type": "display_data"
    }
   ],
   "source": [
    "play_store_category = play_store.groupby('Category').mean().sort_values(('Rating'), ascending=False)\n",
    "plt.figure(figsize=(15,7))\n",
    "avg_sent_pol = sns.barplot(x=play_store_category.index, y=play_store_category.Rating, data=play_store_category\n",
    "                           , color ='orange')\n",
    "avg_sent_pol.axes.set_title('Average Rating per Category',fontsize=20)\n",
    "avg_sent_pol.set_xlabel('Categoty',fontsize=15)\n",
    "avg_sent_pol.set_ylabel('Average Rating',fontsize=15)\n",
    "avg_sent_pol.tick_params(labelsize=12)\n",
    "plt.xticks(rotation=90)"
   ]
  },
  {
   "cell_type": "markdown",
   "metadata": {},
   "source": [
    "### Number of installs\n",
    "\n",
    "Third, the distribution of apps number of installs has been evaluated. The data frame has been grouped by the number of installs \"installs_numeric\". The new data frame \"play_store_installs\" is shown below:"
   ]
  },
  {
   "cell_type": "code",
   "execution_count": 766,
   "metadata": {},
   "outputs": [
    {
     "data": {
      "text/html": [
       "<div>\n",
       "<style scoped>\n",
       "    .dataframe tbody tr th:only-of-type {\n",
       "        vertical-align: middle;\n",
       "    }\n",
       "\n",
       "    .dataframe tbody tr th {\n",
       "        vertical-align: top;\n",
       "    }\n",
       "\n",
       "    .dataframe thead th {\n",
       "        text-align: right;\n",
       "    }\n",
       "</style>\n",
       "<table border=\"1\" class=\"dataframe\">\n",
       "  <thead>\n",
       "    <tr style=\"text-align: right;\">\n",
       "      <th></th>\n",
       "      <th>Rating</th>\n",
       "      <th>Reviews</th>\n",
       "    </tr>\n",
       "    <tr>\n",
       "      <th>installs_numeric</th>\n",
       "      <th></th>\n",
       "      <th></th>\n",
       "    </tr>\n",
       "  </thead>\n",
       "  <tbody>\n",
       "    <tr>\n",
       "      <th>0</th>\n",
       "      <td>0.000000</td>\n",
       "      <td>0.000000e+00</td>\n",
       "    </tr>\n",
       "    <tr>\n",
       "      <th>1</th>\n",
       "      <td>0.223881</td>\n",
       "      <td>2.985075e-01</td>\n",
       "    </tr>\n",
       "    <tr>\n",
       "      <th>5</th>\n",
       "      <td>0.506098</td>\n",
       "      <td>5.365854e-01</td>\n",
       "    </tr>\n",
       "    <tr>\n",
       "      <th>10</th>\n",
       "      <td>0.830990</td>\n",
       "      <td>1.091146e+00</td>\n",
       "    </tr>\n",
       "    <tr>\n",
       "      <th>50</th>\n",
       "      <td>1.219212</td>\n",
       "      <td>2.394089e+00</td>\n",
       "    </tr>\n",
       "    <tr>\n",
       "      <th>100</th>\n",
       "      <td>1.848930</td>\n",
       "      <td>5.455064e+00</td>\n",
       "    </tr>\n",
       "    <tr>\n",
       "      <th>500</th>\n",
       "      <td>2.525460</td>\n",
       "      <td>1.224233e+01</td>\n",
       "    </tr>\n",
       "    <tr>\n",
       "      <th>1000</th>\n",
       "      <td>3.178136</td>\n",
       "      <td>3.702186e+01</td>\n",
       "    </tr>\n",
       "    <tr>\n",
       "      <th>5000</th>\n",
       "      <td>3.652928</td>\n",
       "      <td>9.897397e+01</td>\n",
       "    </tr>\n",
       "    <tr>\n",
       "      <th>10000</th>\n",
       "      <td>3.853816</td>\n",
       "      <td>3.458325e+02</td>\n",
       "    </tr>\n",
       "    <tr>\n",
       "      <th>50000</th>\n",
       "      <td>3.935575</td>\n",
       "      <td>9.640933e+02</td>\n",
       "    </tr>\n",
       "    <tr>\n",
       "      <th>100000</th>\n",
       "      <td>4.055315</td>\n",
       "      <td>3.381601e+03</td>\n",
       "    </tr>\n",
       "    <tr>\n",
       "      <th>500000</th>\n",
       "      <td>4.158263</td>\n",
       "      <td>9.966744e+03</td>\n",
       "    </tr>\n",
       "    <tr>\n",
       "      <th>1000000</th>\n",
       "      <td>4.205703</td>\n",
       "      <td>3.285081e+04</td>\n",
       "    </tr>\n",
       "    <tr>\n",
       "      <th>5000000</th>\n",
       "      <td>4.213372</td>\n",
       "      <td>1.009455e+05</td>\n",
       "    </tr>\n",
       "    <tr>\n",
       "      <th>10000000</th>\n",
       "      <td>4.281818</td>\n",
       "      <td>3.316238e+05</td>\n",
       "    </tr>\n",
       "    <tr>\n",
       "      <th>50000000</th>\n",
       "      <td>4.321769</td>\n",
       "      <td>1.221935e+06</td>\n",
       "    </tr>\n",
       "    <tr>\n",
       "      <th>100000000</th>\n",
       "      <td>4.346429</td>\n",
       "      <td>3.450164e+06</td>\n",
       "    </tr>\n",
       "    <tr>\n",
       "      <th>500000000</th>\n",
       "      <td>4.450000</td>\n",
       "      <td>1.714505e+07</td>\n",
       "    </tr>\n",
       "    <tr>\n",
       "      <th>1000000000</th>\n",
       "      <td>3.800000</td>\n",
       "      <td>1.169808e+06</td>\n",
       "    </tr>\n",
       "  </tbody>\n",
       "</table>\n",
       "</div>"
      ],
      "text/plain": [
       "                    Rating       Reviews\n",
       "installs_numeric                        \n",
       "0                 0.000000  0.000000e+00\n",
       "1                 0.223881  2.985075e-01\n",
       "5                 0.506098  5.365854e-01\n",
       "10                0.830990  1.091146e+00\n",
       "50                1.219212  2.394089e+00\n",
       "100               1.848930  5.455064e+00\n",
       "500               2.525460  1.224233e+01\n",
       "1000              3.178136  3.702186e+01\n",
       "5000              3.652928  9.897397e+01\n",
       "10000             3.853816  3.458325e+02\n",
       "50000             3.935575  9.640933e+02\n",
       "100000            4.055315  3.381601e+03\n",
       "500000            4.158263  9.966744e+03\n",
       "1000000           4.205703  3.285081e+04\n",
       "5000000           4.213372  1.009455e+05\n",
       "10000000          4.281818  3.316238e+05\n",
       "50000000          4.321769  1.221935e+06\n",
       "100000000         4.346429  3.450164e+06\n",
       "500000000         4.450000  1.714505e+07\n",
       "1000000000        3.800000  1.169808e+06"
      ]
     },
     "execution_count": 766,
     "metadata": {},
     "output_type": "execute_result"
    }
   ],
   "source": [
    "play_store_installs = play_store.groupby('installs_numeric').mean()\n",
    "play_store_installs"
   ]
  },
  {
   "cell_type": "markdown",
   "metadata": {},
   "source": [
    "The count plot of the number of installs is shown below. Most of the apps have been installed between 100 and 50,000,000 times."
   ]
  },
  {
   "cell_type": "code",
   "execution_count": 843,
   "metadata": {},
   "outputs": [
    {
     "data": {
      "text/plain": [
       "(array([ 0,  1,  2,  3,  4,  5,  6,  7,  8,  9, 10, 11, 12, 13, 14, 15, 16,\n",
       "        17, 18, 19]), <a list of 20 Text xticklabel objects>)"
      ]
     },
     "execution_count": 843,
     "metadata": {},
     "output_type": "execute_result"
    },
    {
     "data": {
      "image/png": "[encoded data removed]",
      "text/plain": [
       "<Figure size 1080x504 with 1 Axes>"
      ]
     },
     "metadata": {
      "needs_background": "light"
     },
     "output_type": "display_data"
    }
   ],
   "source": [
    "plt.figure(figsize=(15,7))\n",
    "installs_numeric_count = sns.countplot(x='installs_numeric', data=play_store, color= 'salmon')\n",
    "installs_numeric_count.axes.set_title('Number of Installs Count',fontsize=20)\n",
    "installs_numeric_count.set_xlabel('Number of Installs',fontsize=15)\n",
    "installs_numeric_count.set_ylabel('Count',fontsize=15)\n",
    "installs_numeric_count.tick_params(labelsize=12)\n",
    "plt.xticks(rotation=45)"
   ]
  },
  {
   "cell_type": "markdown",
   "metadata": {},
   "source": [
    "The average rating increases as the number of installs increases as it shown in the below bar chart between the number of installs and the average users rating. This looks logical because a higher number of installs usually is a representation of a successful app, and successful apps usually receive higher and positive users rating."
   ]
  },
  {
   "cell_type": "code",
   "execution_count": 844,
   "metadata": {},
   "outputs": [
    {
     "data": {
      "text/plain": [
       "(array([ 0,  1,  2,  3,  4,  5,  6,  7,  8,  9, 10, 11, 12, 13, 14, 15, 16,\n",
       "        17, 18, 19]), <a list of 20 Text xticklabel objects>)"
      ]
     },
     "execution_count": 844,
     "metadata": {},
     "output_type": "execute_result"
    },
    {
     "data": {
      "image/png": "[encoded data removed]",
      "text/plain": [
       "<Figure size 1080x504 with 1 Axes>"
      ]
     },
     "metadata": {
      "needs_background": "light"
     },
     "output_type": "display_data"
    }
   ],
   "source": [
    "plt.figure(figsize=(15,7))\n",
    "installs_rating = sns.barplot(x=play_store_installs.index, y=play_store_installs.Rating, data=play_store_installs, color ='salmon')\n",
    "installs_rating.axes.set_title('Average Rating for number of installs',fontsize=20)\n",
    "installs_rating.set_xlabel('Number of Installs',fontsize=15)\n",
    "installs_rating.set_ylabel('Average Rating',fontsize=15)\n",
    "installs_rating.tick_params(labelsize=12)\n",
    "plt.xticks(rotation=45)"
   ]
  },
  {
   "cell_type": "markdown",
   "metadata": {},
   "source": [
    "## Research Questions\n",
    "\n",
    "Q1) Do the \"Number of Installs\" increase when the word \"FREE\" included in the app name?\n",
    "\n",
    "Q2) Are the users more satisfied with the apps include the \"FREE\" word in the app name? Do they have higher Rating?\n",
    "\n",
    "Q3) Do the users provide more feedback through \"Reviews\" for the apps with the \"FREE\" word in thier names?"
   ]
  },
  {
   "cell_type": "markdown",
   "metadata": {},
   "source": [
    "## Analysis\n",
    "\n",
    "Most of the apps in this data frame are \"Free\" apps (approx. more than 90%), while few apps are \"Paid\". This is clearly represented in the below bar chart below which shows the apps count of \"Free\" and \"Paid\" apps."
   ]
  },
  {
   "cell_type": "code",
   "execution_count": 845,
   "metadata": {},
   "outputs": [
    {
     "data": {
      "image/png": "[encoded data removed]",
      "text/plain": [
       "<Figure size 1080x504 with 1 Axes>"
      ]
     },
     "metadata": {
      "needs_background": "light"
     },
     "output_type": "display_data"
    }
   ],
   "source": [
    "plt.figure(figsize=(15,7))\n",
    "rating_count = sns.countplot(x='Type', data=play_store, color= 'green')\n",
    "rating_count.axes.set_title('Number of Free and Paid Apps' ,fontsize=20)\n",
    "rating_count.set_xlabel('App Type',fontsize=15)\n",
    "rating_count.set_ylabel('Type Count',fontsize=15)\n",
    "rating_count.tick_params(labelsize=12)"
   ]
  },
  {
   "cell_type": "markdown",
   "metadata": {},
   "source": [
    "To evaluate the effect of including the word \"FREE\" in the app name (title), The data frame has been divided into two data frames. One for the apps contains the word \"FREE\" in the app name(title) (free_app_name), and the other dataset will retain the remaining apps (no_free_app_name).\n",
    "\n",
    "The below code lines are used to create two data frames. the first data frame (free_app_name) includes all the apps with the word \"FREE\" in the app name, the option case=False make sure we include all the apps contain the word \"FREE\" regardless if its upper- or lower-cased word. the other data frame used similar code lines, but it includes the symbol \"~\" which change the output to show the opposite of the output of the first data frame."
   ]
  },
  {
   "cell_type": "code",
   "execution_count": 732,
   "metadata": {},
   "outputs": [
    {
     "data": {
      "text/html": [
       "<div>\n",
       "<style scoped>\n",
       "    .dataframe tbody tr th:only-of-type {\n",
       "        vertical-align: middle;\n",
       "    }\n",
       "\n",
       "    .dataframe tbody tr th {\n",
       "        vertical-align: top;\n",
       "    }\n",
       "\n",
       "    .dataframe thead th {\n",
       "        text-align: right;\n",
       "    }\n",
       "</style>\n",
       "<table border=\"1\" class=\"dataframe\">\n",
       "  <thead>\n",
       "    <tr style=\"text-align: right;\">\n",
       "      <th></th>\n",
       "      <th>App</th>\n",
       "      <th>Category</th>\n",
       "      <th>Rating</th>\n",
       "      <th>Reviews</th>\n",
       "      <th>Size</th>\n",
       "      <th>Installs</th>\n",
       "      <th>Type</th>\n",
       "      <th>Price</th>\n",
       "      <th>Content Rating</th>\n",
       "      <th>Genres</th>\n",
       "      <th>Last Updated</th>\n",
       "      <th>Current Ver</th>\n",
       "      <th>Android Ver</th>\n",
       "      <th>installs_numeric</th>\n",
       "    </tr>\n",
       "  </thead>\n",
       "  <tbody>\n",
       "    <tr>\n",
       "      <th>324</th>\n",
       "      <td>- Free Comics - Comic Apps</td>\n",
       "      <td>COMICS</td>\n",
       "      <td>3.5</td>\n",
       "      <td>115</td>\n",
       "      <td>9.1M</td>\n",
       "      <td>10,000+</td>\n",
       "      <td>Free</td>\n",
       "      <td>0</td>\n",
       "      <td>Mature 17+</td>\n",
       "      <td>Comics</td>\n",
       "      <td>July 13, 2018</td>\n",
       "      <td>5.0.12</td>\n",
       "      <td>5.0 and up</td>\n",
       "      <td>10000</td>\n",
       "    </tr>\n",
       "    <tr>\n",
       "      <th>4875</th>\n",
       "      <td>30 Day Ab Challenge FREE</td>\n",
       "      <td>HEALTH_AND_FITNESS</td>\n",
       "      <td>4.3</td>\n",
       "      <td>48253</td>\n",
       "      <td>Varies with device</td>\n",
       "      <td>1,000,000+</td>\n",
       "      <td>Free</td>\n",
       "      <td>0</td>\n",
       "      <td>Everyone</td>\n",
       "      <td>Health &amp; Fitness</td>\n",
       "      <td>December 13, 2017</td>\n",
       "      <td>Varies with device</td>\n",
       "      <td>Varies with device</td>\n",
       "      <td>1000000</td>\n",
       "    </tr>\n",
       "    <tr>\n",
       "      <th>4568</th>\n",
       "      <td>360 Security - Free Antivirus, Booster, Cleaner</td>\n",
       "      <td>TOOLS</td>\n",
       "      <td>4.6</td>\n",
       "      <td>16771865</td>\n",
       "      <td>Varies with device</td>\n",
       "      <td>100,000,000+</td>\n",
       "      <td>Free</td>\n",
       "      <td>0</td>\n",
       "      <td>Everyone</td>\n",
       "      <td>Tools</td>\n",
       "      <td>August 4, 2018</td>\n",
       "      <td>Varies with device</td>\n",
       "      <td>Varies with device</td>\n",
       "      <td>100000000</td>\n",
       "    </tr>\n",
       "    <tr>\n",
       "      <th>5076</th>\n",
       "      <td>50000 Free eBooks &amp; Free AudioBooks</td>\n",
       "      <td>BOOKS_AND_REFERENCE</td>\n",
       "      <td>4.1</td>\n",
       "      <td>52312</td>\n",
       "      <td>11M</td>\n",
       "      <td>5,000,000+</td>\n",
       "      <td>Free</td>\n",
       "      <td>0</td>\n",
       "      <td>Teen</td>\n",
       "      <td>Books &amp; Reference</td>\n",
       "      <td>May 19, 2018</td>\n",
       "      <td>5.3.4</td>\n",
       "      <td>4.4 and up</td>\n",
       "      <td>5000000</td>\n",
       "    </tr>\n",
       "    <tr>\n",
       "      <th>729</th>\n",
       "      <td>ABC Preschool Free</td>\n",
       "      <td>EDUCATION</td>\n",
       "      <td>3.8</td>\n",
       "      <td>27572</td>\n",
       "      <td>25M</td>\n",
       "      <td>5,000,000+</td>\n",
       "      <td>Free</td>\n",
       "      <td>0</td>\n",
       "      <td>Everyone</td>\n",
       "      <td>Education;Education</td>\n",
       "      <td>October 25, 2017</td>\n",
       "      <td>3.0</td>\n",
       "      <td>2.3 and up</td>\n",
       "      <td>5000000</td>\n",
       "    </tr>\n",
       "  </tbody>\n",
       "</table>\n",
       "</div>"
      ],
      "text/plain": [
       "                                                  App             Category  \\\n",
       "324                        - Free Comics - Comic Apps               COMICS   \n",
       "4875                         30 Day Ab Challenge FREE   HEALTH_AND_FITNESS   \n",
       "4568  360 Security - Free Antivirus, Booster, Cleaner                TOOLS   \n",
       "5076              50000 Free eBooks & Free AudioBooks  BOOKS_AND_REFERENCE   \n",
       "729                                ABC Preschool Free            EDUCATION   \n",
       "\n",
       "      Rating   Reviews                Size      Installs  Type Price  \\\n",
       "324      3.5       115                9.1M       10,000+  Free     0   \n",
       "4875     4.3     48253  Varies with device    1,000,000+  Free     0   \n",
       "4568     4.6  16771865  Varies with device  100,000,000+  Free     0   \n",
       "5076     4.1     52312                 11M    5,000,000+  Free     0   \n",
       "729      3.8     27572                 25M    5,000,000+  Free     0   \n",
       "\n",
       "     Content Rating               Genres       Last Updated  \\\n",
       "324      Mature 17+               Comics      July 13, 2018   \n",
       "4875       Everyone     Health & Fitness  December 13, 2017   \n",
       "4568       Everyone                Tools     August 4, 2018   \n",
       "5076           Teen    Books & Reference       May 19, 2018   \n",
       "729        Everyone  Education;Education   October 25, 2017   \n",
       "\n",
       "             Current Ver         Android Ver  installs_numeric  \n",
       "324               5.0.12          5.0 and up             10000  \n",
       "4875  Varies with device  Varies with device           1000000  \n",
       "4568  Varies with device  Varies with device         100000000  \n",
       "5076               5.3.4          4.4 and up           5000000  \n",
       "729                  3.0          2.3 and up           5000000  "
      ]
     },
     "execution_count": 732,
     "metadata": {},
     "output_type": "execute_result"
    }
   ],
   "source": [
    "free_app_name=play_store[play_store['App'].str.contains('free', case=False)] \n",
    "free_app_name.head()"
   ]
  },
  {
   "cell_type": "code",
   "execution_count": 733,
   "metadata": {},
   "outputs": [
    {
     "data": {
      "text/html": [
       "<div>\n",
       "<style scoped>\n",
       "    .dataframe tbody tr th:only-of-type {\n",
       "        vertical-align: middle;\n",
       "    }\n",
       "\n",
       "    .dataframe tbody tr th {\n",
       "        vertical-align: top;\n",
       "    }\n",
       "\n",
       "    .dataframe thead th {\n",
       "        text-align: right;\n",
       "    }\n",
       "</style>\n",
       "<table border=\"1\" class=\"dataframe\">\n",
       "  <thead>\n",
       "    <tr style=\"text-align: right;\">\n",
       "      <th></th>\n",
       "      <th>App</th>\n",
       "      <th>Category</th>\n",
       "      <th>Rating</th>\n",
       "      <th>Reviews</th>\n",
       "      <th>Size</th>\n",
       "      <th>Installs</th>\n",
       "      <th>Type</th>\n",
       "      <th>Price</th>\n",
       "      <th>Content Rating</th>\n",
       "      <th>Genres</th>\n",
       "      <th>Last Updated</th>\n",
       "      <th>Current Ver</th>\n",
       "      <th>Android Ver</th>\n",
       "      <th>installs_numeric</th>\n",
       "    </tr>\n",
       "  </thead>\n",
       "  <tbody>\n",
       "    <tr>\n",
       "      <th>8884</th>\n",
       "      <td>\"i DT\" Fútbol. Todos Somos Técnicos.</td>\n",
       "      <td>SPORTS</td>\n",
       "      <td>0.0</td>\n",
       "      <td>27</td>\n",
       "      <td>3.6M</td>\n",
       "      <td>500+</td>\n",
       "      <td>Free</td>\n",
       "      <td>0</td>\n",
       "      <td>Everyone</td>\n",
       "      <td>Sports</td>\n",
       "      <td>October 7, 2017</td>\n",
       "      <td>0.22</td>\n",
       "      <td>4.1 and up</td>\n",
       "      <td>500</td>\n",
       "    </tr>\n",
       "    <tr>\n",
       "      <th>8532</th>\n",
       "      <td>+Download 4 Instagram Twitter</td>\n",
       "      <td>SOCIAL</td>\n",
       "      <td>4.5</td>\n",
       "      <td>40467</td>\n",
       "      <td>22M</td>\n",
       "      <td>1,000,000+</td>\n",
       "      <td>Free</td>\n",
       "      <td>0</td>\n",
       "      <td>Everyone</td>\n",
       "      <td>Social</td>\n",
       "      <td>August 2, 2018</td>\n",
       "      <td>5.03</td>\n",
       "      <td>4.1 and up</td>\n",
       "      <td>1000000</td>\n",
       "    </tr>\n",
       "    <tr>\n",
       "      <th>4541</th>\n",
       "      <td>.R</td>\n",
       "      <td>TOOLS</td>\n",
       "      <td>4.5</td>\n",
       "      <td>259</td>\n",
       "      <td>203k</td>\n",
       "      <td>10,000+</td>\n",
       "      <td>Free</td>\n",
       "      <td>0</td>\n",
       "      <td>Everyone</td>\n",
       "      <td>Tools</td>\n",
       "      <td>September 16, 2014</td>\n",
       "      <td>1.1.06</td>\n",
       "      <td>1.5 and up</td>\n",
       "      <td>10000</td>\n",
       "    </tr>\n",
       "    <tr>\n",
       "      <th>4636</th>\n",
       "      <td>/u/app</td>\n",
       "      <td>COMMUNICATION</td>\n",
       "      <td>4.7</td>\n",
       "      <td>573</td>\n",
       "      <td>53M</td>\n",
       "      <td>10,000+</td>\n",
       "      <td>Free</td>\n",
       "      <td>0</td>\n",
       "      <td>Mature 17+</td>\n",
       "      <td>Communication</td>\n",
       "      <td>July 3, 2018</td>\n",
       "      <td>4.2.4</td>\n",
       "      <td>4.1 and up</td>\n",
       "      <td>10000</td>\n",
       "    </tr>\n",
       "    <tr>\n",
       "      <th>5940</th>\n",
       "      <td>058.ba</td>\n",
       "      <td>NEWS_AND_MAGAZINES</td>\n",
       "      <td>4.4</td>\n",
       "      <td>27</td>\n",
       "      <td>14M</td>\n",
       "      <td>100+</td>\n",
       "      <td>Free</td>\n",
       "      <td>0</td>\n",
       "      <td>Everyone</td>\n",
       "      <td>News &amp; Magazines</td>\n",
       "      <td>July 6, 2018</td>\n",
       "      <td>1.0</td>\n",
       "      <td>4.2 and up</td>\n",
       "      <td>100</td>\n",
       "    </tr>\n",
       "  </tbody>\n",
       "</table>\n",
       "</div>"
      ],
      "text/plain": [
       "                                       App            Category  Rating  \\\n",
       "8884  \"i DT\" Fútbol. Todos Somos Técnicos.              SPORTS     0.0   \n",
       "8532         +Download 4 Instagram Twitter              SOCIAL     4.5   \n",
       "4541                                    .R               TOOLS     4.5   \n",
       "4636                                /u/app       COMMUNICATION     4.7   \n",
       "5940                                058.ba  NEWS_AND_MAGAZINES     4.4   \n",
       "\n",
       "      Reviews  Size    Installs  Type Price Content Rating            Genres  \\\n",
       "8884       27  3.6M        500+  Free     0       Everyone            Sports   \n",
       "8532    40467   22M  1,000,000+  Free     0       Everyone            Social   \n",
       "4541      259  203k     10,000+  Free     0       Everyone             Tools   \n",
       "4636      573   53M     10,000+  Free     0     Mature 17+     Communication   \n",
       "5940       27   14M        100+  Free     0       Everyone  News & Magazines   \n",
       "\n",
       "            Last Updated Current Ver Android Ver  installs_numeric  \n",
       "8884     October 7, 2017        0.22  4.1 and up               500  \n",
       "8532      August 2, 2018        5.03  4.1 and up           1000000  \n",
       "4541  September 16, 2014      1.1.06  1.5 and up             10000  \n",
       "4636        July 3, 2018       4.2.4  4.1 and up             10000  \n",
       "5940        July 6, 2018         1.0  4.2 and up               100  "
      ]
     },
     "execution_count": 733,
     "metadata": {},
     "output_type": "execute_result"
    }
   ],
   "source": [
    "no_free_app_name=play_store[~play_store['App'].str.contains('free', case=False)]\n",
    "no_free_app_name.head()"
   ]
  },
  {
   "cell_type": "markdown",
   "metadata": {},
   "source": [
    "367 of the apps include the word \"FREE\" in the app name. This number is relatively low if we know over 90% of the apps in this study were Free apps. This means the inclusion of the word \"FREE\" in the app name is not common."
   ]
  },
  {
   "cell_type": "code",
   "execution_count": 734,
   "metadata": {},
   "outputs": [
    {
     "data": {
      "text/plain": [
       "367"
      ]
     },
     "execution_count": 734,
     "metadata": {},
     "output_type": "execute_result"
    }
   ],
   "source": [
    "len(free_app_name)"
   ]
  },
  {
   "cell_type": "code",
   "execution_count": 735,
   "metadata": {},
   "outputs": [
    {
     "data": {
      "text/plain": [
       "8494"
      ]
     },
     "execution_count": 735,
     "metadata": {},
     "output_type": "execute_result"
    }
   ],
   "source": [
    "len(no_free_app_name)"
   ]
  },
  {
   "cell_type": "markdown",
   "metadata": {},
   "source": [
    "### Research Question #1 : \"Number of Installs\"\n",
    "\n",
    "First, The number of installs count for the (free_app_name) and (no_free_app_name) data frames has been plotted using the codes below. Subplots feature is used to facilitate the comparison between the two plots. The \"blue\" color bars to the left represents the (free_app_name) data frame, while the \"red\" color bars represent the other data frame.\n",
    "\n",
    "As shown below, the distribution of the number of installs count does not defer between both data frames. Both of them are skewed to the left.\n",
    "\n",
    "The average number of installs is higher for the apps that include the word \"FREE\" in the app name (4.26 million installs) compare to an average of (3.49 million) installs for the rest of the apps. The standard deviation is less for the apps that include \"Free\" on their names compare to the rest of the apps which means it is more clustered."
   ]
  },
  {
   "cell_type": "code",
   "execution_count": 846,
   "metadata": {
    "scrolled": true
   },
   "outputs": [
    {
     "data": {
      "image/png": "[encoded data removed]",
      "text/plain": [
       "<Figure size 1080x504 with 2 Axes>"
      ]
     },
     "metadata": {
      "needs_background": "light"
     },
     "output_type": "display_data"
    }
   ],
   "source": [
    "plt.figure(figsize=(15,7))\n",
    "\n",
    "plt.subplot(1,2,1)\n",
    "sns.countplot(free_app_name['installs_numeric'], color='blue')\n",
    "plt.xlabel('Number of Installs', fontsize=15)\n",
    "plt.ylabel('Counts', fontsize=15)\n",
    "plt.xticks(rotation=45, horizontalalignment='right')\n",
    "\n",
    "plt.subplot(1,2,2)\n",
    "sns.countplot(no_free_app_name['installs_numeric'], color='red')\n",
    "plt.xlabel('Number of Installs', fontsize=15)\n",
    "plt.ylabel('Counts', fontsize=15)\n",
    "plt.xticks(rotation=45, horizontalalignment='right')\n",
    "\n",
    "plt.show()"
   ]
  },
  {
   "cell_type": "code",
   "execution_count": 847,
   "metadata": {},
   "outputs": [
    {
     "data": {
      "text/plain": [
       "count    3.670000e+02\n",
       "mean     4.263534e+06\n",
       "std      1.294597e+07\n",
       "min      1.000000e+00\n",
       "25%      5.000000e+04\n",
       "50%      5.000000e+05\n",
       "75%      1.000000e+06\n",
       "max      1.000000e+08\n",
       "Name: installs_numeric, dtype: float64"
      ]
     },
     "execution_count": 847,
     "metadata": {},
     "output_type": "execute_result"
    }
   ],
   "source": [
    "free_app_name['installs_numeric'].describe()"
   ]
  },
  {
   "cell_type": "code",
   "execution_count": 849,
   "metadata": {},
   "outputs": [
    {
     "data": {
      "text/plain": [
       "count    8.494000e+03\n",
       "mean     3.481769e+06\n",
       "std      2.203133e+07\n",
       "min      0.000000e+00\n",
       "25%      1.000000e+03\n",
       "50%      5.000000e+04\n",
       "75%      1.000000e+06\n",
       "max      1.000000e+09\n",
       "Name: installs_numeric, dtype: float64"
      ]
     },
     "execution_count": 849,
     "metadata": {},
     "output_type": "execute_result"
    }
   ],
   "source": [
    "no_free_app_name['installs_numeric'].describe()"
   ]
  },
  {
   "cell_type": "markdown",
   "metadata": {},
   "source": [
    "### Research Question #2 : \"Users Rating\"\n",
    "\n",
    "Second, distribution plot for the two data frames has been plotted to evaluate any difference between them in terms of users rating. The plot combines both distributions in the same plot. The \"blue\" color represents (free_app_name) data frame while the \"red\" color represents  (no_free_app_name) data frame.\n",
    "\n",
    "The plot shows a higher average rating for the apps contain the word \"FREE\" in the app name (4.04) compare to an average score of (3.45) for the rest of the apps. The distribution of (free_app_name) data frame is less spread out and more clustered (standard deviation = 0.93) compare to the rest of the apps (standard deviation = 1.63).\n",
    "\n",
    "There is a significant number of apps with a zero-rating score, which represents (NaN - no user rating). The number of apps with zero rating score is significantly higher with the apps which do not include the word \"FREE\" in the app name. These outliers have their effect on the mean, standard deviation, and the distribution of both data frames. "
   ]
  },
  {
   "cell_type": "code",
   "execution_count": 850,
   "metadata": {},
   "outputs": [
    {
     "data": {
      "text/plain": [
       "(array([0. , 0.2, 0.4, 0.6, 0.8, 1. , 1.2, 1.4, 1.6, 1.8]),\n",
       " <a list of 10 Text yticklabel objects>)"
      ]
     },
     "execution_count": 850,
     "metadata": {},
     "output_type": "execute_result"
    },
    {
     "data": {
      "image/png": "[encoded data removed]",
      "text/plain": [
       "<Figure size 1080x504 with 1 Axes>"
      ]
     },
     "metadata": {
      "needs_background": "light"
     },
     "output_type": "display_data"
    }
   ],
   "source": [
    "plt.figure(figsize=(15,7))\n",
    "sns.distplot(free_app_name['Rating'])\n",
    "sns.distplot(no_free_app_name['Rating'], color='red')\n",
    "plt.xlabel('Rating',fontsize=15)\n",
    "plt.xticks(fontsize=12)\n",
    "plt.yticks(fontsize=12)"
   ]
  },
  {
   "cell_type": "code",
   "execution_count": 740,
   "metadata": {},
   "outputs": [
    {
     "data": {
      "text/plain": [
       "count    367.000000\n",
       "mean       4.040599\n",
       "std        0.929341\n",
       "min        0.000000\n",
       "25%        3.900000\n",
       "50%        4.300000\n",
       "75%        4.500000\n",
       "max        5.000000\n",
       "Name: Rating, dtype: float64"
      ]
     },
     "execution_count": 740,
     "metadata": {},
     "output_type": "execute_result"
    }
   ],
   "source": [
    "free_app_name['Rating'].describe()"
   ]
  },
  {
   "cell_type": "code",
   "execution_count": 851,
   "metadata": {},
   "outputs": [
    {
     "data": {
      "text/plain": [
       "count    8494.000000\n",
       "mean        3.452602\n",
       "std         1.640399\n",
       "min         0.000000\n",
       "25%         3.500000\n",
       "50%         4.200000\n",
       "75%         4.500000\n",
       "max         5.000000\n",
       "Name: Rating, dtype: float64"
      ]
     },
     "execution_count": 851,
     "metadata": {},
     "output_type": "execute_result"
    }
   ],
   "source": [
    "no_free_app_name['Rating'].describe()"
   ]
  },
  {
   "cell_type": "markdown",
   "metadata": {},
   "source": [
    "The apps with \"Zero\" rating scores (Outliers) need to be removed from the dataset to isolate their effect on the analysis. As explained previously, The \"Zero\" score does not mean a low rating but it is a result of no feedback from the users on thier experience with the app. Including these \"Zero\" scores might result in misleading results and conclusions. \n",
    "\n",
    "Therefore, a new data frames (free_app_name_no_zero) and (no_free_app_name_no_zero) has been created by removing all the rows with a rating score of \"Zero\", and then the same previous analysis has been repeated on the new data frames.\n",
    "\n",
    "After removing the apps with \"Zero\" score from both data frames, both distributions and statistics look similar. the means (4.20 vs 4.16) and standard deviation (0.47 vs 0.56) are very close. These findings are different from the previous findings above."
   ]
  },
  {
   "cell_type": "code",
   "execution_count": 742,
   "metadata": {},
   "outputs": [],
   "source": [
    "free_app_name_no_zero=free_app_name.loc[free_app_name['Rating'] != 0]\n",
    "no_free_app_name_no_zero=no_free_app_name.loc[no_free_app_name['Rating'] != 0]"
   ]
  },
  {
   "cell_type": "code",
   "execution_count": 852,
   "metadata": {},
   "outputs": [
    {
     "data": {
      "text/plain": [
       "(array([0. , 0.2, 0.4, 0.6, 0.8, 1. , 1.2, 1.4, 1.6, 1.8]),\n",
       " <a list of 10 Text yticklabel objects>)"
      ]
     },
     "execution_count": 852,
     "metadata": {},
     "output_type": "execute_result"
    },
    {
     "data": {
      "image/png": "[encoded data removed]",
      "text/plain": [
       "<Figure size 1080x504 with 1 Axes>"
      ]
     },
     "metadata": {
      "needs_background": "light"
     },
     "output_type": "display_data"
    }
   ],
   "source": [
    "plt.figure(figsize=(15,7))\n",
    "sns.distplot(free_app_name_no_zero['Rating'])\n",
    "sns.distplot(no_free_app_name_no_zero['Rating'], color='red')\n",
    "plt.xlabel('Rating',fontsize=15)\n",
    "plt.xticks(fontsize=12)\n",
    "plt.yticks(fontsize=12)"
   ]
  },
  {
   "cell_type": "code",
   "execution_count": 853,
   "metadata": {},
   "outputs": [
    {
     "data": {
      "text/plain": [
       "count    353.00000\n",
       "mean       4.20085\n",
       "std        0.47215\n",
       "min        1.80000\n",
       "25%        4.00000\n",
       "50%        4.30000\n",
       "75%        4.50000\n",
       "max        5.00000\n",
       "Name: Rating, dtype: float64"
      ]
     },
     "execution_count": 853,
     "metadata": {},
     "output_type": "execute_result"
    }
   ],
   "source": [
    "free_app_name_no_zero['Rating'].describe()"
   ]
  },
  {
   "cell_type": "code",
   "execution_count": 854,
   "metadata": {},
   "outputs": [
    {
     "data": {
      "text/plain": [
       "count    7054.000000\n",
       "mean        4.157414\n",
       "std         0.556501\n",
       "min         1.000000\n",
       "25%         4.000000\n",
       "50%         4.300000\n",
       "75%         4.500000\n",
       "max         5.000000\n",
       "Name: Rating, dtype: float64"
      ]
     },
     "execution_count": 854,
     "metadata": {},
     "output_type": "execute_result"
    }
   ],
   "source": [
    "no_free_app_name_no_zero['Rating'].describe()"
   ]
  },
  {
   "cell_type": "markdown",
   "metadata": {},
   "source": [
    "### Research Question #3 : \"Number of Users Reviews\"\n",
    "\n",
    "Finally, Histograms plots for the two data frames are shown below to evaluate if the number of reviews changes as a result of inclusion or exclusion of the word \"FREE\". The \"blue\" color represents (free_app_name) data frame while the \"red\" color represents  (no_free_app_name) data frame.\n",
    "\n",
    "\n",
    "In general, the apps with the \"FREE\" word in the app name received a higher average number of reviews (141,299) compare to the average of (97,762) for the rest of the apps.\n",
    "\n",
    "The histograms below are more clustered close to \"Zero\". This is mainly because of the outliers in both data frames. If you check the maximum values of both data frames and compared them to the 75% percentile you can see a huge difference."
   ]
  },
  {
   "cell_type": "code",
   "execution_count": 855,
   "metadata": {},
   "outputs": [
    {
     "data": {
      "image/png": "[encoded data removed]",
      "text/plain": [
       "<Figure size 1080x504 with 2 Axes>"
      ]
     },
     "metadata": {
      "needs_background": "light"
     },
     "output_type": "display_data"
    }
   ],
   "source": [
    "plt.figure(figsize=(15,7))\n",
    "\n",
    "plt.subplot(1,2,1)\n",
    "free_app_name['Reviews'].hist(color='blue')\n",
    "plt.xlabel('Log (Number of Reviews)', fontsize=15)\n",
    "plt.ylabel('Counts', fontsize=15)\n",
    "plt.xticks(rotation=45, horizontalalignment='right')\n",
    "\n",
    "plt.subplot(1,2,2)\n",
    "no_free_app_name['Reviews'].hist(color='red')\n",
    "plt.xlabel('Log (Number of Reviews)', fontsize=15)\n",
    "plt.ylabel('Counts', fontsize=15)\n",
    "plt.xticks(rotation=45, horizontalalignment='right')\n",
    "\n",
    "plt.show()"
   ]
  },
  {
   "cell_type": "code",
   "execution_count": 857,
   "metadata": {},
   "outputs": [
    {
     "data": {
      "text/plain": [
       "count    3.670000e+02\n",
       "mean     1.412989e+05\n",
       "std      9.160876e+05\n",
       "min      0.000000e+00\n",
       "25%      4.140000e+02\n",
       "50%      5.639000e+03\n",
       "75%      4.961150e+04\n",
       "max      1.677186e+07\n",
       "Name: Reviews, dtype: float64"
      ]
     },
     "execution_count": 857,
     "metadata": {},
     "output_type": "execute_result"
    }
   ],
   "source": [
    "free_app_name['Reviews'].describe()"
   ]
  },
  {
   "cell_type": "code",
   "execution_count": 856,
   "metadata": {},
   "outputs": [
    {
     "data": {
      "text/plain": [
       "count    8.494000e+03\n",
       "mean     9.758984e+04\n",
       "std      7.263431e+05\n",
       "min      0.000000e+00\n",
       "25%      1.700000e+01\n",
       "50%      5.170000e+02\n",
       "75%      1.667275e+04\n",
       "max      4.291653e+07\n",
       "Name: Reviews, dtype: float64"
      ]
     },
     "execution_count": 856,
     "metadata": {},
     "output_type": "execute_result"
    }
   ],
   "source": [
    "no_free_app_name['Reviews'].describe()"
   ]
  },
  {
   "cell_type": "markdown",
   "metadata": {},
   "source": [
    "Because of that, Zooming-in will help in providing a more clear picture by repeating the analysis solely for the apps received less than 50,000 reviews (represents approximately 85% of the data)."
   ]
  },
  {
   "cell_type": "code",
   "execution_count": 797,
   "metadata": {},
   "outputs": [],
   "source": [
    "free_app_name_no_outlier=free_app_name.loc[free_app_name['Reviews'] < 50000]\n",
    "no_free_app_name_no_outlier=no_free_app_name.loc[no_free_app_name['Reviews'] < 50000]"
   ]
  },
  {
   "cell_type": "code",
   "execution_count": 798,
   "metadata": {},
   "outputs": [
    {
     "data": {
      "text/plain": [
       "275"
      ]
     },
     "execution_count": 798,
     "metadata": {},
     "output_type": "execute_result"
    }
   ],
   "source": [
    "len(free_app_name_no_outlier)"
   ]
  },
  {
   "cell_type": "code",
   "execution_count": 799,
   "metadata": {},
   "outputs": [
    {
     "data": {
      "text/plain": [
       "7143"
      ]
     },
     "execution_count": 799,
     "metadata": {},
     "output_type": "execute_result"
    }
   ],
   "source": [
    "len(no_free_app_name_no_outlier)"
   ]
  },
  {
   "cell_type": "markdown",
   "metadata": {},
   "source": [
    "The average number of reviews for the apps with the word \"FREE\" in the app name went down to (8,315) but it still significantly higher than the average number of reviews for the rest of the apps (4,774). No big difference in terms of data clustering with relatively close standard deviations (12,868 vs 10,007)"
   ]
  },
  {
   "cell_type": "code",
   "execution_count": 858,
   "metadata": {},
   "outputs": [
    {
     "data": {
      "image/png": "[encoded data removed]",
      "text/plain": [
       "<Figure size 1080x504 with 2 Axes>"
      ]
     },
     "metadata": {
      "needs_background": "light"
     },
     "output_type": "display_data"
    }
   ],
   "source": [
    "plt.figure(figsize=(15,7))\n",
    "\n",
    "plt.subplot(1,2,1)\n",
    "free_app_name_no_outlier['Reviews'].hist(color='blue')\n",
    "plt.xlabel('Number of Reviews', fontsize=15)\n",
    "plt.ylabel('Counts', fontsize=15)\n",
    "plt.xticks(rotation=45, horizontalalignment='right')\n",
    "\n",
    "plt.subplot(1,2,2)\n",
    "no_free_app_name_no_outlier['Reviews'].hist(color='red')\n",
    "plt.xlabel('Number of Reviews', fontsize=15)\n",
    "plt.ylabel('Counts', fontsize=15)\n",
    "plt.xticks(rotation=45, horizontalalignment='right')\n",
    "\n",
    "plt.show()"
   ]
  },
  {
   "cell_type": "code",
   "execution_count": 859,
   "metadata": {},
   "outputs": [
    {
     "data": {
      "text/plain": [
       "count      275.000000\n",
       "mean      8315.505455\n",
       "std      12868.155321\n",
       "min          0.000000\n",
       "25%        182.000000\n",
       "50%       1774.000000\n",
       "75%       9951.000000\n",
       "max      48929.000000\n",
       "Name: Reviews, dtype: float64"
      ]
     },
     "execution_count": 859,
     "metadata": {},
     "output_type": "execute_result"
    }
   ],
   "source": [
    "free_app_name_no_outlier['Reviews'].describe()"
   ]
  },
  {
   "cell_type": "code",
   "execution_count": 860,
   "metadata": {},
   "outputs": [
    {
     "data": {
      "text/plain": [
       "count     7143.000000\n",
       "mean      4774.316814\n",
       "std       9999.529397\n",
       "min          0.000000\n",
       "25%         10.000000\n",
       "50%        168.000000\n",
       "75%       3357.000000\n",
       "max      49971.000000\n",
       "Name: Reviews, dtype: float64"
      ]
     },
     "execution_count": 860,
     "metadata": {},
     "output_type": "execute_result"
    }
   ],
   "source": [
    "no_free_app_name_no_outlier['Reviews'].describe()"
   ]
  },
  {
   "cell_type": "markdown",
   "metadata": {},
   "source": [
    "## Conculsion \n",
    "\n",
    "Inclusion of word \"FREE\" in the app name or title has resulted in more number of installs and users reviews but it does not has any effect in terms of users satisfaction through \"Rating\". the word \"FREE\" still has its magic effect in attracting the users to download the apps but might not result in more satisfied userss, which might result in less user retention.\n",
    "\n",
    "Adding the word \"FREE\" helps in getting users to try the app and experience it, many of them provided feedback through reviews as well, but despite the higher number of installs, users are not more satisfied with these apps compare to other apps. This could be due to the lower quality of these apps, or due to the higher number of app scams (apps do not provide what is promised in the app name or description)."
   ]
  },
  {
   "cell_type": "markdown",
   "metadata": {},
   "source": [
    "## Future Research\n",
    "\n",
    "For future research, The following research topics are recommended:\n",
    "\n",
    "1- Why inclusion of the word \"FREE\" does not result in more satisfied users, despite the higher number of installs and users reviews? Evaluating user retention by analyzing active users over a specific time frame. The number of installs and uninstalls of the apps can be useful data for this study.\n",
    "\n",
    "2- Does providing a free and paid (pro) versions of the app results in more installs to the paid apps compare to the apps with paid version only? Many apps in the market are providing a free app with limited features to help customers experience the app and explore the potential of the pro version (paid version) before they pay for it. Comparison between these apps and the apps with only a paid version might help in evaluating the effectiveness of this marketing strategy."
   ]
  }
 ],
 "metadata": {
  "kernelspec": {
   "display_name": "Python 3",
   "language": "python",
   "name": "python3"
  },
  "language_info": {
   "codemirror_mode": {
    "name": "ipython",
    "version": 3
   },
   "file_extension": ".py",
   "mimetype": "text/x-python",
   "name": "python",
   "nbconvert_exporter": "python",
   "pygments_lexer": "ipython3",
   "version": "3.7.3"
  }
 },
 "nbformat": 4,
 "nbformat_minor": 2
}
